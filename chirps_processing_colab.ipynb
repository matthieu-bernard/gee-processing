{
  "nbformat": 4,
  "nbformat_minor": 5,
  "metadata": {
    "kernelspec": {
      "display_name": "Python 3",
      "language": "python",
      "name": "python3"
    },
    "language_info": {
      "codemirror_mode": {
        "name": "ipython",
        "version": 3
      },
      "file_extension": ".py",
      "mimetype": "text/x-python",
      "name": "python",
      "nbconvert_exporter": "python",
      "pygments_lexer": "ipython3",
      "version": "3.8.5"
    },
    "colab": {
      "name": "Untitled.ipynb",
      "provenance": [],
      "collapsed_sections": [],
      "toc_visible": true
    }
  },
  "cells": [
    {
      "cell_type": "markdown",
      "metadata": {
        "id": "fallen-withdrawal"
      },
      "source": [
        "# CHIRPS rainfaill processing\n",
        "\n",
        "Process daily rainfall hosted on Google Earth Engine. "
      ],
      "id": "fallen-withdrawal"
    },
    {
      "cell_type": "code",
      "metadata": {
        "colab": {
          "base_uri": "https://localhost:8080/"
        },
        "id": "L6vQf1Xv2uVs",
        "outputId": "6f9b258f-b630-410c-9bbd-341771849a85"
      },
      "source": [
        "!pip install geopandas intake intake-stac eefolium xarray geoviews "
      ],
      "id": "L6vQf1Xv2uVs",
      "execution_count": 1,
      "outputs": [
        {
          "output_type": "stream",
          "text": [
            "Requirement already satisfied: geopandas in /usr/local/lib/python3.7/dist-packages (0.9.0)\n",
            "Requirement already satisfied: intake in /usr/local/lib/python3.7/dist-packages (0.6.1)\n",
            "Requirement already satisfied: intake-stac in /usr/local/lib/python3.7/dist-packages (0.3.0)\n",
            "Requirement already satisfied: eefolium in /usr/local/lib/python3.7/dist-packages (0.1.2)\n",
            "Requirement already satisfied: xarray in /usr/local/lib/python3.7/dist-packages (0.15.1)\n",
            "Requirement already satisfied: geoviews in /usr/local/lib/python3.7/dist-packages (1.8.1)\n",
            "Requirement already satisfied: fiona>=1.8 in /usr/local/lib/python3.7/dist-packages (from geopandas) (1.8.18)\n",
            "Requirement already satisfied: pyproj>=2.2.0 in /usr/local/lib/python3.7/dist-packages (from geopandas) (3.0.0.post1)\n",
            "Requirement already satisfied: shapely>=1.6 in /usr/local/lib/python3.7/dist-packages (from geopandas) (1.7.1)\n",
            "Requirement already satisfied: pandas>=0.24.0 in /usr/local/lib/python3.7/dist-packages (from geopandas) (1.1.5)\n",
            "Requirement already satisfied: entrypoints in /usr/local/lib/python3.7/dist-packages (from intake) (0.3)\n",
            "Requirement already satisfied: pyyaml in /usr/local/lib/python3.7/dist-packages (from intake) (3.13)\n",
            "Requirement already satisfied: dask in /usr/local/lib/python3.7/dist-packages (from intake) (2.12.0)\n",
            "Requirement already satisfied: appdirs in /usr/local/lib/python3.7/dist-packages (from intake) (1.4.4)\n",
            "Requirement already satisfied: fsspec>=0.7.4 in /usr/local/lib/python3.7/dist-packages (from intake) (0.8.7)\n",
            "Requirement already satisfied: sat-stac==0.4.* in /usr/local/lib/python3.7/dist-packages (from intake-stac) (0.4.1)\n",
            "Requirement already satisfied: intake-xarray>=0.4 in /usr/local/lib/python3.7/dist-packages (from intake-stac) (0.4.1)\n",
            "Requirement already satisfied: folium>=0.11.0 in /usr/local/lib/python3.7/dist-packages (from eefolium) (0.12.1)\n",
            "Requirement already satisfied: earthengine-api in /usr/local/lib/python3.7/dist-packages (from eefolium) (0.1.238)\n",
            "Requirement already satisfied: numpy>=1.15 in /usr/local/lib/python3.7/dist-packages (from xarray) (1.19.5)\n",
            "Requirement already satisfied: setuptools>=41.2 in /usr/local/lib/python3.7/dist-packages (from xarray) (53.0.0)\n",
            "Requirement already satisfied: bokeh>=2.0.0 in /usr/local/lib/python3.7/dist-packages (from geoviews) (2.1.1)\n",
            "Requirement already satisfied: holoviews>=1.13.0 in /usr/local/lib/python3.7/dist-packages (from geoviews) (1.13.5)\n",
            "Requirement already satisfied: param>=1.9.2 in /usr/local/lib/python3.7/dist-packages (from geoviews) (1.10.1)\n",
            "Requirement already satisfied: cartopy>=0.17.0 in /usr/local/lib/python3.7/dist-packages (from geoviews) (0.18.0)\n",
            "Requirement already satisfied: cligj>=0.5 in /usr/local/lib/python3.7/dist-packages (from fiona>=1.8->geopandas) (0.7.1)\n",
            "Requirement already satisfied: certifi in /usr/local/lib/python3.7/dist-packages (from fiona>=1.8->geopandas) (2020.12.5)\n",
            "Requirement already satisfied: click<8,>=4.0 in /usr/local/lib/python3.7/dist-packages (from fiona>=1.8->geopandas) (7.1.2)\n",
            "Requirement already satisfied: click-plugins>=1.0 in /usr/local/lib/python3.7/dist-packages (from fiona>=1.8->geopandas) (1.1.1)\n",
            "Requirement already satisfied: attrs>=17 in /usr/local/lib/python3.7/dist-packages (from fiona>=1.8->geopandas) (20.3.0)\n",
            "Requirement already satisfied: six>=1.7 in /usr/local/lib/python3.7/dist-packages (from fiona>=1.8->geopandas) (1.15.0)\n",
            "Requirement already satisfied: munch in /usr/local/lib/python3.7/dist-packages (from fiona>=1.8->geopandas) (2.5.0)\n",
            "Requirement already satisfied: pytz>=2017.2 in /usr/local/lib/python3.7/dist-packages (from pandas>=0.24.0->geopandas) (2018.9)\n",
            "Requirement already satisfied: python-dateutil>=2.7.3 in /usr/local/lib/python3.7/dist-packages (from pandas>=0.24.0->geopandas) (2.8.1)\n",
            "Requirement already satisfied: importlib-metadata; python_version < \"3.8\" in /usr/local/lib/python3.7/dist-packages (from fsspec>=0.7.4->intake) (3.7.0)\n",
            "Requirement already satisfied: requests>=2.19.1 in /usr/local/lib/python3.7/dist-packages (from sat-stac==0.4.*->intake-stac) (2.23.0)\n",
            "Requirement already satisfied: netcdf4 in /usr/local/lib/python3.7/dist-packages (from intake-xarray>=0.4->intake-stac) (1.5.6)\n",
            "Requirement already satisfied: zarr in /usr/local/lib/python3.7/dist-packages (from intake-xarray>=0.4->intake-stac) (2.6.1)\n",
            "Requirement already satisfied: jinja2>=2.9 in /usr/local/lib/python3.7/dist-packages (from folium>=0.11.0->eefolium) (2.11.3)\n",
            "Requirement already satisfied: branca>=0.3.0 in /usr/local/lib/python3.7/dist-packages (from folium>=0.11.0->eefolium) (0.4.2)\n",
            "Requirement already satisfied: google-cloud-storage in /usr/local/lib/python3.7/dist-packages (from earthengine-api->eefolium) (1.18.1)\n",
            "Requirement already satisfied: google-auth-httplib2>=0.0.3 in /usr/local/lib/python3.7/dist-packages (from earthengine-api->eefolium) (0.0.4)\n",
            "Requirement already satisfied: httplib2shim in /usr/local/lib/python3.7/dist-packages (from earthengine-api->eefolium) (0.0.3)\n",
            "Requirement already satisfied: google-api-python-client in /usr/local/lib/python3.7/dist-packages (from earthengine-api->eefolium) (1.7.12)\n",
            "Requirement already satisfied: google-auth>=1.4.1 in /usr/local/lib/python3.7/dist-packages (from earthengine-api->eefolium) (1.27.0)\n",
            "Requirement already satisfied: future in /usr/local/lib/python3.7/dist-packages (from earthengine-api->eefolium) (0.16.0)\n",
            "Requirement already satisfied: httplib2<1dev,>=0.9.2 in /usr/local/lib/python3.7/dist-packages (from earthengine-api->eefolium) (0.17.4)\n",
            "Requirement already satisfied: tornado>=5.1 in /usr/local/lib/python3.7/dist-packages (from bokeh>=2.0.0->geoviews) (5.1.1)\n",
            "Requirement already satisfied: packaging>=16.8 in /usr/local/lib/python3.7/dist-packages (from bokeh>=2.0.0->geoviews) (20.9)\n",
            "Requirement already satisfied: pillow>=4.0 in /usr/local/lib/python3.7/dist-packages (from bokeh>=2.0.0->geoviews) (7.0.0)\n",
            "Requirement already satisfied: typing-extensions>=3.7.4 in /usr/local/lib/python3.7/dist-packages (from bokeh>=2.0.0->geoviews) (3.7.4.3)\n",
            "Requirement already satisfied: pyviz-comms>=0.7.3 in /usr/local/lib/python3.7/dist-packages (from holoviews>=1.13.0->geoviews) (2.0.1)\n",
            "Requirement already satisfied: panel>=0.8.0 in /usr/local/lib/python3.7/dist-packages (from holoviews>=1.13.0->geoviews) (0.9.7)\n",
            "Requirement already satisfied: pyshp>=1.1.4 in /usr/local/lib/python3.7/dist-packages (from cartopy>=0.17.0->geoviews) (2.1.3)\n",
            "Requirement already satisfied: zipp>=0.5 in /usr/local/lib/python3.7/dist-packages (from importlib-metadata; python_version < \"3.8\"->fsspec>=0.7.4->intake) (3.4.0)\n",
            "Requirement already satisfied: idna<3,>=2.5 in /usr/local/lib/python3.7/dist-packages (from requests>=2.19.1->sat-stac==0.4.*->intake-stac) (2.10)\n",
            "Requirement already satisfied: urllib3!=1.25.0,!=1.25.1,<1.26,>=1.21.1 in /usr/local/lib/python3.7/dist-packages (from requests>=2.19.1->sat-stac==0.4.*->intake-stac) (1.24.3)\n",
            "Requirement already satisfied: chardet<4,>=3.0.2 in /usr/local/lib/python3.7/dist-packages (from requests>=2.19.1->sat-stac==0.4.*->intake-stac) (3.0.4)\n",
            "Requirement already satisfied: cftime in /usr/local/lib/python3.7/dist-packages (from netcdf4->intake-xarray>=0.4->intake-stac) (1.4.1)\n",
            "Requirement already satisfied: fasteners in /usr/local/lib/python3.7/dist-packages (from zarr->intake-xarray>=0.4->intake-stac) (0.16)\n",
            "Requirement already satisfied: asciitree in /usr/local/lib/python3.7/dist-packages (from zarr->intake-xarray>=0.4->intake-stac) (0.3.3)\n",
            "Requirement already satisfied: numcodecs>=0.6.4 in /usr/local/lib/python3.7/dist-packages (from zarr->intake-xarray>=0.4->intake-stac) (0.7.3)\n",
            "Requirement already satisfied: MarkupSafe>=0.23 in /usr/local/lib/python3.7/dist-packages (from jinja2>=2.9->folium>=0.11.0->eefolium) (1.1.1)\n",
            "Requirement already satisfied: google-cloud-core<2.0dev,>=1.0.0 in /usr/local/lib/python3.7/dist-packages (from google-cloud-storage->earthengine-api->eefolium) (1.0.3)\n",
            "Requirement already satisfied: google-resumable-media<0.5.0dev,>=0.3.1 in /usr/local/lib/python3.7/dist-packages (from google-cloud-storage->earthengine-api->eefolium) (0.4.1)\n",
            "Requirement already satisfied: uritemplate<4dev,>=3.0.0 in /usr/local/lib/python3.7/dist-packages (from google-api-python-client->earthengine-api->eefolium) (3.0.1)\n",
            "Requirement already satisfied: rsa<5,>=3.1.4; python_version >= \"3.6\" in /usr/local/lib/python3.7/dist-packages (from google-auth>=1.4.1->earthengine-api->eefolium) (4.7.2)\n",
            "Requirement already satisfied: cachetools<5.0,>=2.0.0 in /usr/local/lib/python3.7/dist-packages (from google-auth>=1.4.1->earthengine-api->eefolium) (4.2.1)\n",
            "Requirement already satisfied: pyasn1-modules>=0.2.1 in /usr/local/lib/python3.7/dist-packages (from google-auth>=1.4.1->earthengine-api->eefolium) (0.2.8)\n",
            "Requirement already satisfied: pyparsing>=2.0.2 in /usr/local/lib/python3.7/dist-packages (from packaging>=16.8->bokeh>=2.0.0->geoviews) (2.4.7)\n",
            "Requirement already satisfied: markdown in /usr/local/lib/python3.7/dist-packages (from panel>=0.8.0->holoviews>=1.13.0->geoviews) (3.3.4)\n",
            "Requirement already satisfied: pyct>=0.4.4 in /usr/local/lib/python3.7/dist-packages (from panel>=0.8.0->holoviews>=1.13.0->geoviews) (0.4.8)\n",
            "Requirement already satisfied: tqdm in /usr/local/lib/python3.7/dist-packages (from panel>=0.8.0->holoviews>=1.13.0->geoviews) (4.41.1)\n",
            "Requirement already satisfied: google-api-core<2.0.0dev,>=1.14.0 in /usr/local/lib/python3.7/dist-packages (from google-cloud-core<2.0dev,>=1.0.0->google-cloud-storage->earthengine-api->eefolium) (1.16.0)\n",
            "Requirement already satisfied: pyasn1>=0.1.3 in /usr/local/lib/python3.7/dist-packages (from rsa<5,>=3.1.4; python_version >= \"3.6\"->google-auth>=1.4.1->earthengine-api->eefolium) (0.4.8)\n",
            "Requirement already satisfied: protobuf>=3.4.0 in /usr/local/lib/python3.7/dist-packages (from google-api-core<2.0.0dev,>=1.14.0->google-cloud-core<2.0dev,>=1.0.0->google-cloud-storage->earthengine-api->eefolium) (3.12.4)\n",
            "Requirement already satisfied: googleapis-common-protos<2.0dev,>=1.6.0 in /usr/local/lib/python3.7/dist-packages (from google-api-core<2.0.0dev,>=1.14.0->google-cloud-core<2.0dev,>=1.0.0->google-cloud-storage->earthengine-api->eefolium) (1.52.0)\n"
          ],
          "name": "stdout"
        }
      ]
    },
    {
      "cell_type": "markdown",
      "metadata": {
        "id": "6xhakM688Tzg"
      },
      "source": [
        "## Authentification"
      ],
      "id": "6xhakM688Tzg"
    },
    {
      "cell_type": "markdown",
      "metadata": {
        "id": "documented-weather"
      },
      "source": [
        "### Authentification to GEE"
      ],
      "id": "documented-weather"
    },
    {
      "cell_type": "code",
      "metadata": {
        "colab": {
          "resources": {
            "http://localhost:8080/nbextensions/google.colab/files.js": {
              "data": "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",
              "ok": true,
              "headers": [
                [
                  "content-type",
                  "application/javascript"
                ]
              ],
              "status": 200,
              "status_text": "OK"
            }
          },
          "base_uri": "https://localhost:8080/",
          "height": 325
        },
        "id": "-zNqgXQTtt3i",
        "outputId": "766c6c53-79f5-4e45-de24-a1253d61e083"
      },
      "source": [
        "from google.colab import files\n",
        "files.upload()"
      ],
      "id": "-zNqgXQTtt3i",
      "execution_count": 2,
      "outputs": [
        {
          "output_type": "display_data",
          "data": {
            "text/html": [
              "\n",
              "     <input type=\"file\" id=\"files-9f32c1ae-73ca-435a-bf8b-f22f30939b81\" name=\"files[]\" multiple disabled\n",
              "        style=\"border:none\" />\n",
              "     <output id=\"result-9f32c1ae-73ca-435a-bf8b-f22f30939b81\">\n",
              "      Upload widget is only available when the cell has been executed in the\n",
              "      current browser session. Please rerun this cell to enable.\n",
              "      </output>\n",
              "      <script src=\"/nbextensions/google.colab/files.js\"></script> "
            ],
            "text/plain": [
              "<IPython.core.display.HTML object>"
            ]
          },
          "metadata": {
            "tags": []
          }
        },
        {
          "output_type": "stream",
          "text": [
            "Saving aoi.shx to aoi (1).shx\n",
            "Saving aoi.shp to aoi (1).shp\n",
            "Saving aoi.dbf to aoi (1).dbf\n",
            "Saving aoi.qpj to aoi (1).qpj\n",
            "Saving aoi.prj to aoi (1).prj\n"
          ],
          "name": "stdout"
        },
        {
          "output_type": "execute_result",
          "data": {
            "text/plain": [
              "{'aoi.dbf': b'\\x03x\\t\\x15\\x01\\x00\\x00\\x00A\\x00\\x0b\\x00\\x00\\x00\\x00\\x00\\x00\\x00\\x00\\x00\\x00\\x00\\x00\\x00\\x00\\x00\\x00\\x00\\x00\\x00\\x00\\x00id\\x00\\x00\\x00\\x00\\x00\\x00\\x00\\x00\\x00N\\x00\\x00\\x00\\x00\\n\\x00\\x00\\x00\\x00\\x00\\x00\\x00\\x00\\x00\\x00\\x00\\x00\\x00\\x00\\x00\\r          1',\n",
              " 'aoi.prj': b'GEOGCS[\"GCS_WGS_1984\",DATUM[\"D_WGS_1984\",SPHEROID[\"WGS_1984\",6378137,298.257223563]],PRIMEM[\"Greenwich\",0],UNIT[\"Degree\",0.017453292519943295]]',\n",
              " 'aoi.qpj': b'GEOGCS[\"WGS 84\",DATUM[\"WGS_1984\",SPHEROID[\"WGS 84\",6378137,298.257223563,AUTHORITY[\"EPSG\",\"7030\"]],AUTHORITY[\"EPSG\",\"6326\"]],PRIMEM[\"Greenwich\",0,AUTHORITY[\"EPSG\",\"8901\"]],UNIT[\"degree\",0.0174532925199433,AUTHORITY[\"EPSG\",\"9122\"]],AUTHORITY[\"EPSG\",\"4326\"]]\\n',\n",
              " 'aoi.shp': b\"\\x00\\x00'\\n\\x00\\x00\\x00\\x00\\x00\\x00\\x00\\x00\\x00\\x00\\x00\\x00\\x00\\x00\\x00\\x00\\x00\\x00\\x00\\x00\\x00\\x00\\x00\\xae\\xe8\\x03\\x00\\x00\\x05\\x00\\x00\\x00|`\\x84\\xca\\x8a\\xfdY@wj\\xc1\\x86\\xf0\\xa4D@\\x197\\xa3A\\n\\xdd[@\\x89\\xafw\\xb8ucF@\\x00\\x00\\x00\\x00\\x00\\x00\\x00\\x00\\x00\\x00\\x00\\x00\\x00\\x00\\x00\\x00\\x00\\x00\\x00\\x00\\x00\\x00\\x00\\x00\\x00\\x00\\x00\\x00\\x00\\x00\\x00\\x00\\x00\\x00\\x00\\x01\\x00\\x00\\x00x\\x05\\x00\\x00\\x00|`\\x84\\xca\\x8a\\xfdY@wj\\xc1\\x86\\xf0\\xa4D@\\x197\\xa3A\\n\\xdd[@\\x89\\xafw\\xb8ucF@\\x01\\x00\\x00\\x00\\x0c\\x00\\x00\\x00\\x00\\x00\\x00\\x00\\xd6\\xcd\\xce\\xfa\\x13\\nZ@\\x1e5\\xe8\\x13\\xf2\\xa3E@\\xab\\x97\\xe5\\x9bE\\x8fZ@\\x06\\xa5\\xd7\\x97,\\xcfE@\\x00a\\xc0\\x03\\x01\\x89Z@r\\xdc\\xa9\\x91\\xc7?F@u0\\x01:(\\xeaZ@\\x89\\xafw\\xb8ucF@\\xd9\\xfc\\x0e\\x89\\x99\\x17[@\\x06\\xa5\\xd7\\x97,\\xcfE@\\x9d\\xda\\xd6\\xd0ad[@g\\xfb\\xa1\\xc6/\\x15F@\\x197\\xa3A\\n\\xdd[@\\x84/7{b\\x8fE@\\x9d\\xda\\xd6\\xd0ad[@\\x9eqt\\xc8\\xc4'E@d-\\xceRr\\xb6Z@\\xd2\\x8b4\\xdc\\xe8\\x0bE@\\xe0,\\x92\\x19\\xfc*Z@wj\\xc1\\x86\\xf0\\xa4D@|`\\x84\\xca\\x8a\\xfdY@z{\\x14 <\\x0eE@\\xd6\\xcd\\xce\\xfa\\x13\\nZ@\\x1e5\\xe8\\x13\\xf2\\xa3E@\",\n",
              " 'aoi.shx': b\"\\x00\\x00'\\n\\x00\\x00\\x00\\x00\\x00\\x00\\x00\\x00\\x00\\x00\\x00\\x00\\x00\\x00\\x00\\x00\\x00\\x00\\x00\\x00\\x00\\x00\\x006\\xe8\\x03\\x00\\x00\\x05\\x00\\x00\\x00|`\\x84\\xca\\x8a\\xfdY@wj\\xc1\\x86\\xf0\\xa4D@\\x197\\xa3A\\n\\xdd[@\\x89\\xafw\\xb8ucF@\\x00\\x00\\x00\\x00\\x00\\x00\\x00\\x00\\x00\\x00\\x00\\x00\\x00\\x00\\x00\\x00\\x00\\x00\\x00\\x00\\x00\\x00\\x00\\x00\\x00\\x00\\x00\\x00\\x00\\x00\\x00\\x00\\x00\\x00\\x002\\x00\\x00\\x00x\"}"
            ]
          },
          "metadata": {
            "tags": []
          },
          "execution_count": 2
        }
      ]
    },
    {
      "cell_type": "code",
      "metadata": {
        "id": "noble-investment"
      },
      "source": [
        "import ee"
      ],
      "id": "noble-investment",
      "execution_count": 3,
      "outputs": []
    },
    {
      "cell_type": "code",
      "metadata": {
        "colab": {
          "base_uri": "https://localhost:8080/"
        },
        "id": "shared-stock",
        "outputId": "be7be8d3-19eb-4cfb-cf70-1bd1bc8d9f3b"
      },
      "source": [
        "# Trigger the authentication flow.\n",
        "ee.Authenticate()\n",
        "\n",
        "# Initialize the library.\n",
        "ee.Initialize()"
      ],
      "id": "shared-stock",
      "execution_count": 4,
      "outputs": [
        {
          "output_type": "stream",
          "text": [
            "To authorize access needed by Earth Engine, open the following URL in a web browser and follow the instructions. If the web browser does not start automatically, please manually browse the URL below.\n",
            "\n",
            "    https://accounts.google.com/o/oauth2/auth?client_id=517222506229-vsmmajv00ul0bs7p89v5m89qs8eb9359.apps.googleusercontent.com&scope=https%3A%2F%2Fwww.googleapis.com%2Fauth%2Fearthengine+https%3A%2F%2Fwww.googleapis.com%2Fauth%2Fdevstorage.full_control&redirect_uri=urn%3Aietf%3Awg%3Aoauth%3A2.0%3Aoob&response_type=code&code_challenge=bJrlRVuQdxafPNhr6HqbpNG1z5bdtRz8WJblOKf444A&code_challenge_method=S256\n",
            "\n",
            "The authorization workflow will generate a code, which you should paste in the box below. \n",
            "Enter verification code: 4/1AY0e-g6MFBV4XbGJzrA5hXLTttCeN9X1D6J-82MSRAoQbuq7Gi8t7ry8CIk\n",
            "\n",
            "Successfully saved authorization token.\n"
          ],
          "name": "stdout"
        }
      ]
    },
    {
      "cell_type": "markdown",
      "metadata": {
        "id": "pDSxW--g8fEa"
      },
      "source": [
        "### Authentification to Drive\n",
        "\n",
        "We will use an export to Google Drive since this seems like the most stable option. "
      ],
      "id": "pDSxW--g8fEa"
    },
    {
      "cell_type": "code",
      "metadata": {
        "colab": {
          "base_uri": "https://localhost:8080/"
        },
        "id": "s3M_Ms3b84uv",
        "outputId": "baed2f27-174a-48c3-8c01-8615804522ab"
      },
      "source": [
        "# Load the Drive helper and mount\n",
        "from google.colab import drive\n",
        "\n",
        "# This will prompt for authorization.\n",
        "drive.mount('/content/drive')"
      ],
      "id": "s3M_Ms3b84uv",
      "execution_count": 48,
      "outputs": [
        {
          "output_type": "stream",
          "text": [
            "Drive already mounted at /content/drive; to attempt to forcibly remount, call drive.mount(\"/content/drive\", force_remount=True).\n"
          ],
          "name": "stdout"
        }
      ]
    },
    {
      "cell_type": "markdown",
      "metadata": {
        "id": "british-check"
      },
      "source": [
        "## CHIRPS \n",
        "\n",
        "[CHIRPS](https://www.chc.ucsb.edu/data/chirps) data is hosted (not uniquely) on Google Earth Engine. \n",
        "\n",
        "[chirps_gee](https://developers.google.com/earth-engine/datasets/catalog/UCSB-CHG_CHIRPS_DAILY)\n",
        "\n",
        "As always with large data analysis we want to bring the compute to the data which is exactly one of the features of GEE. \n",
        "So most of the analysis will be performed on GEE and result downloaded. "
      ],
      "id": "british-check"
    },
    {
      "cell_type": "code",
      "metadata": {
        "id": "great-invention"
      },
      "source": [
        "gee_collection_id = \"UCSB-CHG/CHIRPS/DAILY\"\n",
        "band_name = \"precipitation\"\n",
        "aoi_url = 'https://github.com/matthieu-bernard/gee-processing/raw/main/data/aoi.geojson'\n"
      ],
      "id": "great-invention",
      "execution_count": 53,
      "outputs": []
    },
    {
      "cell_type": "markdown",
      "metadata": {
        "id": "sixth-alignment"
      },
      "source": [
        "## Region of Interest"
      ],
      "id": "sixth-alignment"
    },
    {
      "cell_type": "markdown",
      "metadata": {
        "id": "tough-death"
      },
      "source": [
        "## Read region of interest vector file"
      ],
      "id": "tough-death"
    },
    {
      "cell_type": "code",
      "metadata": {
        "id": "premium-terror"
      },
      "source": [
        "import geopandas as gpd\n",
        "\n",
        "gpd_aoi = gpd.GeoDataFrame.from_file(aoi_url)\n",
        "gjson = gpd_aoi.to_crs(epsg='4326').to_json()"
      ],
      "id": "premium-terror",
      "execution_count": 54,
      "outputs": []
    },
    {
      "cell_type": "code",
      "metadata": {
        "colab": {
          "base_uri": "https://localhost:8080/",
          "height": 933
        },
        "id": "undefined-dublin",
        "outputId": "429dbdf1-bbc5-4a75-e22d-4ca9de99be13"
      },
      "source": [
        "# Really simple plot of the region of interest. \n",
        "# Just for the sake of control. \n",
        "\n",
        "import folium\n",
        "import shapely\n",
        "from typing import Tuple\n",
        "\n",
        "def centroid(geom: shapely.geometry) -> Tuple[float, float]:\n",
        "    centroid = geom.centroid\n",
        "    return [centroid.y, centroid.x]\n",
        "\n",
        "\n",
        "aoi_polygon = gpd_aoi['geometry'][0]\n",
        "env = aoi_polygon.envelope \n",
        "\n",
        "mapa = folium.Map(centroid(aoi_polygon),\n",
        "                  zoom_start=5,\n",
        "                  tiles='cartodbpositron')\n",
        "\n",
        "aoi = folium.features.GeoJson(gjson)\n",
        "bbox = folium.features.GeoJson(env)\n",
        "\n",
        "mapa.add_children(aoi)\n",
        "folium.features.GeoJson(env).add_to(mapa)\n",
        "mapa\n",
        "\n"
      ],
      "id": "undefined-dublin",
      "execution_count": 22,
      "outputs": [
        {
          "output_type": "stream",
          "text": [
            "/usr/local/lib/python3.7/dist-packages/ipykernel_launcher.py:23: FutureWarning: Method `add_children` is deprecated. Please use `add_child` instead.\n"
          ],
          "name": "stderr"
        },
        {
          "output_type": "execute_result",
          "data": {
            "text/html": [
              "<div style=\"width:100%;\"><div style=\"position:relative;width:100%;height:0;padding-bottom:60%;\"><span style=\"color:#565656\">Make this Notebook Trusted to load map: File -> Trust Notebook</span><iframe src=\"about:blank\" style=\"position:absolute;width:100%;height:100%;left:0;top:0;border:none !important;\" data-html=%3C%21DOCTYPE%20html%3E%0A%3Chead%3E%20%20%20%20%0A%20%20%20%20%3Cmeta%20http-equiv%3D%22content-type%22%20content%3D%22text/html%3B%20charset%3DUTF-8%22%20/%3E%0A%20%20%20%20%0A%20%20%20%20%20%20%20%20%3Cscript%3E%0A%20%20%20%20%20%20%20%20%20%20%20%20L_NO_TOUCH%20%3D%20false%3B%0A%20%20%20%20%20%20%20%20%20%20%20%20L_DISABLE_3D%20%3D%20false%3B%0A%20%20%20%20%20%20%20%20%3C/script%3E%0A%20%20%20%20%0A%20%20%20%20%3Cstyle%3Ehtml%2C%20body%20%7Bwidth%3A%20100%25%3Bheight%3A%20100%25%3Bmargin%3A%200%3Bpadding%3A%200%3B%7D%3C/style%3E%0A%20%20%20%20%3Cstyle%3E%23map%20%7Bposition%3Aabsolute%3Btop%3A0%3Bbottom%3A0%3Bright%3A0%3Bleft%3A0%3B%7D%3C/style%3E%0A%20%20%20%20%3Cscript%20src%3D%22https%3A//cdn.jsdelivr.net/npm/leaflet%401.6.0/dist/leaflet.js%22%3E%3C/script%3E%0A%20%20%20%20%3Cscript%20src%3D%22https%3A//code.jquery.com/jquery-1.12.4.min.js%22%3E%3C/script%3E%0A%20%20%20%20%3Cscript%20src%3D%22https%3A//maxcdn.bootstrapcdn.com/bootstrap/3.2.0/js/bootstrap.min.js%22%3E%3C/script%3E%0A%20%20%20%20%3Cscript%20src%3D%22https%3A//cdnjs.cloudflare.com/ajax/libs/Leaflet.awesome-markers/2.0.2/leaflet.awesome-markers.js%22%3E%3C/script%3E%0A%20%20%20%20%3Clink%20rel%3D%22stylesheet%22%20href%3D%22https%3A//cdn.jsdelivr.net/npm/leaflet%401.6.0/dist/leaflet.css%22/%3E%0A%20%20%20%20%3Clink%20rel%3D%22stylesheet%22%20href%3D%22https%3A//maxcdn.bootstrapcdn.com/bootstrap/3.2.0/css/bootstrap.min.css%22/%3E%0A%20%20%20%20%3Clink%20rel%3D%22stylesheet%22%20href%3D%22https%3A//maxcdn.bootstrapcdn.com/bootstrap/3.2.0/css/bootstrap-theme.min.css%22/%3E%0A%20%20%20%20%3Clink%20rel%3D%22stylesheet%22%20href%3D%22https%3A//maxcdn.bootstrapcdn.com/font-awesome/4.6.3/css/font-awesome.min.css%22/%3E%0A%20%20%20%20%3Clink%20rel%3D%22stylesheet%22%20href%3D%22https%3A//cdnjs.cloudflare.com/ajax/libs/Leaflet.awesome-markers/2.0.2/leaflet.awesome-markers.css%22/%3E%0A%20%20%20%20%3Clink%20rel%3D%22stylesheet%22%20href%3D%22https%3A//cdn.jsdelivr.net/gh/python-visualization/folium/folium/templates/leaflet.awesome.rotate.min.css%22/%3E%0A%20%20%20%20%0A%20%20%20%20%20%20%20%20%20%20%20%20%3Cmeta%20name%3D%22viewport%22%20content%3D%22width%3Ddevice-width%2C%0A%20%20%20%20%20%20%20%20%20%20%20%20%20%20%20%20initial-scale%3D1.0%2C%20maximum-scale%3D1.0%2C%20user-scalable%3Dno%22%20/%3E%0A%20%20%20%20%20%20%20%20%20%20%20%20%3Cstyle%3E%0A%20%20%20%20%20%20%20%20%20%20%20%20%20%20%20%20%23map_5d6d22a210454fdc8de2716291406410%20%7B%0A%20%20%20%20%20%20%20%20%20%20%20%20%20%20%20%20%20%20%20%20position%3A%20relative%3B%0A%20%20%20%20%20%20%20%20%20%20%20%20%20%20%20%20%20%20%20%20width%3A%20100.0%25%3B%0A%20%20%20%20%20%20%20%20%20%20%20%20%20%20%20%20%20%20%20%20height%3A%20100.0%25%3B%0A%20%20%20%20%20%20%20%20%20%20%20%20%20%20%20%20%20%20%20%20left%3A%200.0%25%3B%0A%20%20%20%20%20%20%20%20%20%20%20%20%20%20%20%20%20%20%20%20top%3A%200.0%25%3B%0A%20%20%20%20%20%20%20%20%20%20%20%20%20%20%20%20%7D%0A%20%20%20%20%20%20%20%20%20%20%20%20%3C/style%3E%0A%20%20%20%20%20%20%20%20%0A%3C/head%3E%0A%3Cbody%3E%20%20%20%20%0A%20%20%20%20%0A%20%20%20%20%20%20%20%20%20%20%20%20%3Cdiv%20class%3D%22folium-map%22%20id%3D%22map_5d6d22a210454fdc8de2716291406410%22%20%3E%3C/div%3E%0A%20%20%20%20%20%20%20%20%0A%3C/body%3E%0A%3Cscript%3E%20%20%20%20%0A%20%20%20%20%0A%20%20%20%20%20%20%20%20%20%20%20%20var%20map_5d6d22a210454fdc8de2716291406410%20%3D%20L.map%28%0A%20%20%20%20%20%20%20%20%20%20%20%20%20%20%20%20%22map_5d6d22a210454fdc8de2716291406410%22%2C%0A%20%20%20%20%20%20%20%20%20%20%20%20%20%20%20%20%7B%0A%20%20%20%20%20%20%20%20%20%20%20%20%20%20%20%20%20%20%20%20center%3A%20%5B43.01512282543365%2C%20107.25429177717952%5D%2C%0A%20%20%20%20%20%20%20%20%20%20%20%20%20%20%20%20%20%20%20%20crs%3A%20L.CRS.EPSG3857%2C%0A%20%20%20%20%20%20%20%20%20%20%20%20%20%20%20%20%20%20%20%20zoom%3A%205%2C%0A%20%20%20%20%20%20%20%20%20%20%20%20%20%20%20%20%20%20%20%20zoomControl%3A%20true%2C%0A%20%20%20%20%20%20%20%20%20%20%20%20%20%20%20%20%20%20%20%20preferCanvas%3A%20false%2C%0A%20%20%20%20%20%20%20%20%20%20%20%20%20%20%20%20%7D%0A%20%20%20%20%20%20%20%20%20%20%20%20%29%3B%0A%0A%20%20%20%20%20%20%20%20%20%20%20%20%0A%0A%20%20%20%20%20%20%20%20%0A%20%20%20%20%0A%20%20%20%20%20%20%20%20%20%20%20%20var%20tile_layer_c777bf6e572448ca95db0d97865456e4%20%3D%20L.tileLayer%28%0A%20%20%20%20%20%20%20%20%20%20%20%20%20%20%20%20%22https%3A//cartodb-basemaps-%7Bs%7D.global.ssl.fastly.net/light_all/%7Bz%7D/%7Bx%7D/%7By%7D.png%22%2C%0A%20%20%20%20%20%20%20%20%20%20%20%20%20%20%20%20%7B%22attribution%22%3A%20%22%5Cu0026copy%3B%20%5Cu003ca%20href%3D%5C%22http%3A//www.openstreetmap.org/copyright%5C%22%5Cu003eOpenStreetMap%5Cu003c/a%5Cu003e%20contributors%20%5Cu0026copy%3B%20%5Cu003ca%20href%3D%5C%22http%3A//cartodb.com/attributions%5C%22%5Cu003eCartoDB%5Cu003c/a%5Cu003e%2C%20CartoDB%20%5Cu003ca%20href%20%3D%5C%22http%3A//cartodb.com/attributions%5C%22%5Cu003eattributions%5Cu003c/a%5Cu003e%22%2C%20%22detectRetina%22%3A%20false%2C%20%22maxNativeZoom%22%3A%2018%2C%20%22maxZoom%22%3A%2018%2C%20%22minZoom%22%3A%200%2C%20%22noWrap%22%3A%20false%2C%20%22opacity%22%3A%201%2C%20%22subdomains%22%3A%20%22abc%22%2C%20%22tms%22%3A%20false%7D%0A%20%20%20%20%20%20%20%20%20%20%20%20%29.addTo%28map_5d6d22a210454fdc8de2716291406410%29%3B%0A%20%20%20%20%20%20%20%20%0A%20%20%20%20%0A%0A%20%20%20%20%20%20%20%20function%20geo_json_f8f8170120b040ab84023219edbd2c84_onEachFeature%28feature%2C%20layer%29%20%7B%0A%20%20%20%20%20%20%20%20%20%20%20%20layer.on%28%7B%0A%20%20%20%20%20%20%20%20%20%20%20%20%7D%29%3B%0A%20%20%20%20%20%20%20%20%7D%3B%0A%20%20%20%20%20%20%20%20var%20geo_json_f8f8170120b040ab84023219edbd2c84%20%3D%20L.geoJson%28null%2C%20%7B%0A%20%20%20%20%20%20%20%20%20%20%20%20%20%20%20%20onEachFeature%3A%20geo_json_f8f8170120b040ab84023219edbd2c84_onEachFeature%2C%0A%20%20%20%20%20%20%20%20%20%20%20%20%0A%20%20%20%20%20%20%20%20%7D%29%3B%0A%0A%20%20%20%20%20%20%20%20function%20geo_json_f8f8170120b040ab84023219edbd2c84_add%20%28data%29%20%7B%0A%20%20%20%20%20%20%20%20%20%20%20%20geo_json_f8f8170120b040ab84023219edbd2c84%0A%20%20%20%20%20%20%20%20%20%20%20%20%20%20%20%20.addData%28data%29%0A%20%20%20%20%20%20%20%20%20%20%20%20%20%20%20%20.addTo%28map_5d6d22a210454fdc8de2716291406410%29%3B%0A%20%20%20%20%20%20%20%20%7D%0A%20%20%20%20%20%20%20%20%20%20%20%20geo_json_f8f8170120b040ab84023219edbd2c84_add%28%7B%22features%22%3A%20%5B%7B%22geometry%22%3A%20%7B%22coordinates%22%3A%20%5B%5B%5B104.1574694652148%2C%2043.28082512701279%5D%2C%20%5B106.23862359448565%2C%2043.618548374457575%5D%2C%20%5B106.1406869295788%2C%2044.498277862491605%5D%2C%20%5B107.6587052356352%2C%2044.77703004688289%5D%2C%20%5B108.36874605620996%2C%2043.618548374457575%5D%2C%20%5B109.56847020131904%2C%2044.16552050503997%5D%2C%20%5B111.45375100077617%2C%2043.120192911096666%5D%2C%20%5B109.56847020131904%2C%2042.31069284139379%5D%2C%20%5B106.85072775015357%2C%2042.09304382863742%5D%2C%20%5B104.67163695597583%2C%2041.28859028286109%5D%2C%20%5B103.96159613540107%2C%2042.111209878922594%5D%2C%20%5B104.1574694652148%2C%2043.28082512701279%5D%5D%5D%2C%20%22type%22%3A%20%22Polygon%22%7D%2C%20%22id%22%3A%20%220%22%2C%20%22properties%22%3A%20%7B%22id%22%3A%201%7D%2C%20%22type%22%3A%20%22Feature%22%7D%5D%2C%20%22type%22%3A%20%22FeatureCollection%22%7D%29%3B%0A%0A%20%20%20%20%20%20%20%20%0A%20%20%20%20%0A%0A%20%20%20%20%20%20%20%20function%20geo_json_7c7c70e541134ef4bca79956f4f4f4a4_onEachFeature%28feature%2C%20layer%29%20%7B%0A%20%20%20%20%20%20%20%20%20%20%20%20layer.on%28%7B%0A%20%20%20%20%20%20%20%20%20%20%20%20%7D%29%3B%0A%20%20%20%20%20%20%20%20%7D%3B%0A%20%20%20%20%20%20%20%20var%20geo_json_7c7c70e541134ef4bca79956f4f4f4a4%20%3D%20L.geoJson%28null%2C%20%7B%0A%20%20%20%20%20%20%20%20%20%20%20%20%20%20%20%20onEachFeature%3A%20geo_json_7c7c70e541134ef4bca79956f4f4f4a4_onEachFeature%2C%0A%20%20%20%20%20%20%20%20%20%20%20%20%0A%20%20%20%20%20%20%20%20%7D%29%3B%0A%0A%20%20%20%20%20%20%20%20function%20geo_json_7c7c70e541134ef4bca79956f4f4f4a4_add%20%28data%29%20%7B%0A%20%20%20%20%20%20%20%20%20%20%20%20geo_json_7c7c70e541134ef4bca79956f4f4f4a4%0A%20%20%20%20%20%20%20%20%20%20%20%20%20%20%20%20.addData%28data%29%0A%20%20%20%20%20%20%20%20%20%20%20%20%20%20%20%20.addTo%28map_5d6d22a210454fdc8de2716291406410%29%3B%0A%20%20%20%20%20%20%20%20%7D%0A%20%20%20%20%20%20%20%20%20%20%20%20geo_json_7c7c70e541134ef4bca79956f4f4f4a4_add%28%7B%22coordinates%22%3A%20%5B%5B%5B103.96159613540107%2C%2041.28859028286109%5D%2C%20%5B111.45375100077617%2C%2041.28859028286109%5D%2C%20%5B111.45375100077617%2C%2044.77703004688289%5D%2C%20%5B103.96159613540107%2C%2044.77703004688289%5D%2C%20%5B103.96159613540107%2C%2041.28859028286109%5D%5D%5D%2C%20%22type%22%3A%20%22Polygon%22%7D%29%3B%0A%0A%20%20%20%20%20%20%20%20%0A%3C/script%3E onload=\"this.contentDocument.open();this.contentDocument.write(    decodeURIComponent(this.getAttribute('data-html')));this.contentDocument.close();\" allowfullscreen webkitallowfullscreen mozallowfullscreen></iframe></div></div>"
            ],
            "text/plain": [
              "<folium.folium.Map at 0x7fa1100e80d0>"
            ]
          },
          "metadata": {
            "tags": []
          },
          "execution_count": 22
        }
      ]
    },
    {
      "cell_type": "code",
      "metadata": {
        "colab": {
          "base_uri": "https://localhost:8080/"
        },
        "id": "K3nNvbCV4Ta4",
        "outputId": "6ff20a31-0523-4a7e-aac4-2acbfa952768"
      },
      "source": [
        "aoi_polygon.area"
      ],
      "id": "K3nNvbCV4Ta4",
      "execution_count": 23,
      "outputs": [
        {
          "output_type": "execute_result",
          "data": {
            "text/plain": [
              "12.872835408149841"
            ]
          },
          "metadata": {
            "tags": []
          },
          "execution_count": 23
        }
      ]
    },
    {
      "cell_type": "code",
      "metadata": {
        "colab": {
          "base_uri": "https://localhost:8080/"
        },
        "id": "straight-prisoner",
        "outputId": "785850f2-df4d-46e7-8109-a2207437541b"
      },
      "source": [
        "print(env)"
      ],
      "id": "straight-prisoner",
      "execution_count": 24,
      "outputs": [
        {
          "output_type": "stream",
          "text": [
            "POLYGON ((103.9615961354011 41.28859028286109, 111.4537510007762 41.28859028286109, 111.4537510007762 44.77703004688289, 103.9615961354011 44.77703004688289, 103.9615961354011 41.28859028286109))\n"
          ],
          "name": "stdout"
        }
      ]
    },
    {
      "cell_type": "markdown",
      "metadata": {
        "id": "experimental-phrase"
      },
      "source": [
        "## Upload area of interets to GEE\n",
        "\n",
        "There seems to be 2 options here:\n",
        "  - Manual upload from the GUI tool: https://developers.google.com/earth-engine/guides/importing\n",
        "  - Use the cli to upload from GCS (cli is written in python so no need for a external call though https://github.com/google/earthengine-api/blob/7a6f605e1be30002c4a3ec516669703dea9e3f71/python/ee/cli/commands.py). \n",
        "  \n",
        "Both have drawbacks, either need a Google Cloud account or manual intervention in the pipeline. \n",
        "\n",
        "To avoid that we can either just filter with the bounding box or create the ee.Geometry on the fly. It's more flexible although it definitely have a the obvious drawback that we would send the geometry definiton over the network each time we run the pipeline. \n"
      ],
      "id": "experimental-phrase"
    },
    {
      "cell_type": "code",
      "metadata": {
        "id": "assured-effectiveness"
      },
      "source": [
        "import os\n",
        "import json\n",
        "\n",
        "def geojson_to_ee(geo_json: str, geodesic=True) -> ee.Geometry:\n",
        "    \"\"\"Converts a geojson to ee.Geometry()\n",
        "    Args:\n",
        "        geo_json (dict): A geojson geometry dictionary or file path.\n",
        "    Returns:\n",
        "        ee_object: An ee.Geometry object\n",
        "    \"\"\"\n",
        "\n",
        "    try:\n",
        "\n",
        "        geo_json = json.loads(geo_json)\n",
        "        if geo_json['type'] == 'FeatureCollection':\n",
        "            features = ee.FeatureCollection(geo_json['features'])\n",
        "            return features\n",
        "        elif geo_json['type'] == 'Feature':\n",
        "            geom = None\n",
        "            keys = geo_json['properties']['style'].keys()\n",
        "            if 'radius' in keys:  # Checks whether it is a circle\n",
        "                geom = ee.Geometry(geo_json['geometry'])\n",
        "                radius = geo_json['properties']['style']['radius']\n",
        "                geom = geom.buffer(radius)\n",
        "            elif geo_json['geometry']['type'] == 'Point':  # Checks whether it is a point\n",
        "                coordinates = geo_json['geometry']['coordinates']\n",
        "                longitude = coordinates[0]\n",
        "                \n",
        "                latitude = coordinates[1]\n",
        "                geom = ee.Geometry.Point(longitude, latitude)\n",
        "            else:\n",
        "                geom = ee.Geometry(geo_json['geometry'], \"\", geodesic)\n",
        "            return geom\n",
        "        else:\n",
        "            print(\"Could not convert the geojson to ee.Geometry()\")\n",
        "\n",
        "    except Exception as e:\n",
        "        print(\"Could not convert the geojson to ee.Geometry()\")\n",
        "        print(e)"
      ],
      "id": "assured-effectiveness",
      "execution_count": 25,
      "outputs": []
    },
    {
      "cell_type": "code",
      "metadata": {
        "id": "mediterranean-maryland"
      },
      "source": [
        "aoi = geojson_to_ee(gjson)"
      ],
      "id": "mediterranean-maryland",
      "execution_count": 26,
      "outputs": []
    },
    {
      "cell_type": "markdown",
      "metadata": {
        "id": "massive-constant"
      },
      "source": [
        "# read the STAC metadata\n",
        "\n",
        "Google Actually publish SpatioTemporal Catalog Assets for the catalogs they host in GEE.\n",
        "\n",
        "For now it seems like processing of the data with a Open Source platform (like Pangeo) is not there yet due to the 'proprietary' storage format they use. But lets at least salute the effort of publishing metadata to the STAC standard. \n",
        "\n",
        "[CHIRPS_stac_metadata](https://gee.stac.cloud/3cRrouu75vEzeP4uufqKgwzeubDQYizmMUQm?t=bands)"
      ],
      "id": "massive-constant"
    },
    {
      "cell_type": "code",
      "metadata": {
        "colab": {
          "base_uri": "https://localhost:8080/"
        },
        "id": "behavioral-ballet",
        "outputId": "ba294818-f54c-418c-a69a-9e9d1a24ea65"
      },
      "source": [
        "import intake\n",
        "\n",
        "url = 'https://earthengine-stac.storage.googleapis.com/catalog/UCSB-CHG_CHIRPS_DAILY.json'\n",
        "cat = intake.open_stac_catalog(url)\n",
        "cat.metadata"
      ],
      "id": "behavioral-ballet",
      "execution_count": 27,
      "outputs": [
        {
          "output_type": "execute_result",
          "data": {
            "text/plain": [
              "{'description': 'Climate Hazards Group InfraRed Precipitation with Station data (CHIRPS)\\nis a 30+ year quasi-global rainfall dataset. CHIRPS incorporates\\n0.05° resolution satellite imagery with in-situ station data\\nto create gridded rainfall time series for trend analysis and seasonal\\ndrought monitoring.\\n',\n",
              " 'extent': {'spatial': {'bbox': [[-180.0, -50.0, 180.0, 50.0]]},\n",
              "  'temporal': {'interval': [['1981-01-01T00:00:00Z', None]]}},\n",
              " 'gee:type': 'image_collection',\n",
              " 'id': 'UCSB-CHG/CHIRPS/DAILY',\n",
              " 'keywords': ['chg',\n",
              "  'climate',\n",
              "  'geophysical',\n",
              "  'precipitation',\n",
              "  'ucsb',\n",
              "  'weather'],\n",
              " 'license': 'proprietary',\n",
              " 'properties': {'eo:bands': [{'description': 'Precipitation',\n",
              "    'gee:unit': 'mm/day',\n",
              "    'name': 'precipitation'}],\n",
              "  'gee:cadence': 'day',\n",
              "  'gee:terms_of_use': 'This datasets are in the public domain. To the extent possible under law,\\n[Pete Peterson](https://chc.ucsb.edu/people/pete-peterson)\\nhas waived all copyright and related or neighboring rights to\\nClimate Hazards Group Infrared Precipitation with Stations (CHIRPS).\\n',\n",
              "  'gee:visualizations': [{'display_name': 'Precipitation',\n",
              "    'image_visualization': {'band_vis': {'bands': ['precipitation'],\n",
              "      'max': [17.0],\n",
              "      'min': [1.0],\n",
              "      'palette': ['001137', '0aab1e', 'e7eb05', 'ff4a2d', 'e90000']}},\n",
              "    'lookat': {'lat': 7.71, 'lon': 17.93, 'zoom': 2}}],\n",
              "  'gsd': 5566},\n",
              " 'providers': [{'name': 'UCSB/CHG',\n",
              "   'roles': ['producer', 'licensor'],\n",
              "   'url': 'https://chc.ucsb.edu/data/chirps'},\n",
              "  {'name': 'Google Earth Engine',\n",
              "   'roles': ['host'],\n",
              "   'url': 'https://developers.google.com/earth-engine/datasets/catalog/UCSB-CHG_CHIRPS_DAILY'}],\n",
              " 'sci:citation': 'Funk, Chris, Pete Peterson, Martin Landsfeld, Diego Pedreros, James Verdin, Shraddhanand Shukla, Gregory Husak, James Rowland, Laura Harrison, Andrew Hoell & Joel Michaelsen. \"The climate hazards infrared precipitation with stations—a new environmental record for monitoring extremes\". Scientific Data 2, 150066. [doi:10.1038/sdata.2015.66](https://doi.org/10.1038/sdata.2015.66) 2015.',\n",
              " 'stac_extensions': ['scientific', 'version'],\n",
              " 'stac_version': '1.0.0-beta.2',\n",
              " 'summaries': {'precipitation': {'gee:estimated_range': True,\n",
              "   'max': 1444.34,\n",
              "   'min': 0.0}},\n",
              " 'title': 'CHIRPS Daily: Climate Hazards Group InfraRed Precipitation with Station Data (version 2.0 final)',\n",
              " 'version': '2.0'}"
            ]
          },
          "metadata": {
            "tags": []
          },
          "execution_count": 27
        }
      ]
    },
    {
      "cell_type": "code",
      "metadata": {
        "id": "ZMA-yyC4y48Q"
      },
      "source": [
        "aoi_shp = ee.FeatureCollection('users/matthieu_bernard/aoi').geometry()\n"
      ],
      "id": "ZMA-yyC4y48Q",
      "execution_count": 28,
      "outputs": []
    },
    {
      "cell_type": "code",
      "metadata": {
        "id": "collected-generator"
      },
      "source": [
        "import datetime\n",
        "import dateutil.parser\n",
        "# Here we get the extent of the datastet to get all of it expect the data for the current \n",
        "# since a partial month could pollute or monthly statistics \n",
        "\n",
        "\n",
        "start = dateutil.parser.isoparse(cat.metadata['extent']['temporal']['interval'][0][0])\n",
        "stop = datetime.date.today().replace(day=1)\n",
        "\n",
        "# Select dataset of interest \n",
        "precip = ee.ImageCollection(gee_collection_id).select(band_name)"
      ],
      "id": "collected-generator",
      "execution_count": 29,
      "outputs": []
    },
    {
      "cell_type": "code",
      "metadata": {
        "id": "technical-poker"
      },
      "source": [
        "precip = (ee.ImageCollection(gee_collection_id)\n",
        "          .select(band_name)\n",
        "          .filter(ee.Filter.date(start.isoformat(), stop.isoformat()))  \n",
        "         )"
      ],
      "id": "technical-poker",
      "execution_count": 30,
      "outputs": []
    },
    {
      "cell_type": "code",
      "metadata": {
        "id": "inner-bacon"
      },
      "source": [
        "# Convert from daily precipitation values bin (rainy/not-rainy). \n",
        "precip_event = precip.map(lambda img: img.gt(0).copyProperties(img, img.propertyNames()))"
      ],
      "id": "inner-bacon",
      "execution_count": 31,
      "outputs": []
    },
    {
      "cell_type": "code",
      "metadata": {
        "id": "pleased-webmaster"
      },
      "source": [
        "# get sum per month\n",
        "months = ee.List.sequence(1, 12)\n",
        "years = ee.List.sequence(start.year, stop.year)\n",
        "\n",
        "by_month_year = ee.ImageCollection.fromImages(\n",
        "  years.map(lambda y: months.map(lambda m:\n",
        "        (precip_event\n",
        "        .filter(ee.Filter.calendarRange(y, y, 'year'))\n",
        "        .filter(ee.Filter.calendarRange(m, m, 'month'))\n",
        "        .sum()\n",
        "        .set('month', m).set('year', y))\n",
        "  )\n",
        ").flatten())"
      ],
      "id": "pleased-webmaster",
      "execution_count": 36,
      "outputs": []
    },
    {
      "cell_type": "code",
      "metadata": {
        "id": "pending-specialist"
      },
      "source": [
        "by_month = ee.ImageCollection.fromImages(\n",
        "  months.map(lambda m:\n",
        "        (by_month_year\n",
        "        .filterMetadata('month', 'equals', m)\n",
        "        .mean()\n",
        "        .clip(aoi)\n",
        "        .set('month', m))\n",
        "  ))"
      ],
      "id": "pending-specialist",
      "execution_count": 37,
      "outputs": []
    },
    {
      "cell_type": "code",
      "metadata": {
        "id": "serial-might"
      },
      "source": [
        "images = byMonth.toBands()\n",
        "\n",
        "task = ee.batch.Export.image(images, 'monthly_average_rainy_days_py_100',\n",
        "  {\n",
        "  'scale': 5000,\n",
        "  'maxPixels': 1.0E13,\n",
        "  'region': aoi_shp,\n",
        "  'fileFormat': 'GeoTIFF',\n",
        "  'formatOptions': {\n",
        "    'cloudOptimized': True\n",
        "  },\n",
        "  'folder': 'chirps'\n",
        "})\n",
        "\n",
        "#task.start()"
      ],
      "id": "serial-might",
      "execution_count": 38,
      "outputs": []
    },
    {
      "cell_type": "code",
      "metadata": {
        "id": "_8ReaHhfzjn3"
      },
      "source": [
        "latlon = ee.Image.pixelLonLat().addBands(byMonth)\n"
      ],
      "id": "_8ReaHhfzjn3",
      "execution_count": 39,
      "outputs": []
    },
    {
      "cell_type": "code",
      "metadata": {
        "id": "mTq7AUz4s9Gh"
      },
      "source": [
        "# apply reducer to list\n",
        "latlon = latlon.reduceRegion(\n",
        "  reducer=ee.Reducer.toList(),\n",
        "  geometry=aoi,\n",
        "  maxPixels=1e8,\n",
        "  scale=5000)\n",
        "\n"
      ],
      "id": "mTq7AUz4s9Gh",
      "execution_count": 44,
      "outputs": []
    },
    {
      "cell_type": "code",
      "metadata": {
        "id": "p3rSVrJqszNV"
      },
      "source": [
        "import numpy as np \n"
      ],
      "id": "p3rSVrJqszNV",
      "execution_count": 45,
      "outputs": []
    },
    {
      "cell_type": "code",
      "metadata": {
        "colab": {
          "base_uri": "https://localhost:8080/"
        },
        "id": "grU2JIristrn",
        "outputId": "0e2d6c60-b766-4c8a-cd34-0619d7567aaa"
      },
      "source": [
        "# Load the Drive helper and mount\n",
        "from google.colab import drive\n",
        "\n",
        "# This will prompt for authorization.\n",
        "drive.mount('/content/drive')"
      ],
      "id": "grU2JIristrn",
      "execution_count": 47,
      "outputs": [
        {
          "output_type": "stream",
          "text": [
            "Mounted at /content/drive\n"
          ],
          "name": "stdout"
        }
      ]
    },
    {
      "cell_type": "code",
      "metadata": {
        "id": "QSj_IZUBsxq_"
      },
      "source": [
        ""
      ],
      "id": "QSj_IZUBsxq_",
      "execution_count": null,
      "outputs": []
    },
    {
      "cell_type": "code",
      "metadata": {
        "id": "8BBluIx580Lw"
      },
      "source": [
        ""
      ],
      "id": "8BBluIx580Lw",
      "execution_count": null,
      "outputs": []
    }
  ]
}